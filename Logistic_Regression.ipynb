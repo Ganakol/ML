{
  "nbformat": 4,
  "nbformat_minor": 0,
  "metadata": {
    "colab": {
      "name": "Logistic_Regression.ipynb",
      "provenance": [],
      "collapsed_sections": []
    },
    "kernelspec": {
      "display_name": "Python 3",
      "name": "python3"
    }
  },
  "cells": [
    {
      "cell_type": "code",
      "metadata": {
        "id": "zVoLyja3McDG"
      },
      "source": [
        "from sklearn.datasets import load_digits"
      ],
      "execution_count": null,
      "outputs": []
    },
    {
      "cell_type": "code",
      "metadata": {
        "id": "Xfi33P_rMoST"
      },
      "source": [
        "from sklearn.model_selection import train_test_split"
      ],
      "execution_count": null,
      "outputs": []
    },
    {
      "cell_type": "code",
      "metadata": {
        "id": "M1cbwkv6NBU6"
      },
      "source": [
        "import numpy as np"
      ],
      "execution_count": null,
      "outputs": []
    },
    {
      "cell_type": "code",
      "metadata": {
        "colab": {
          "base_uri": "https://localhost:8080/"
        },
        "id": "yA9WdnusNIVK",
        "outputId": "ae682095-3994-4fe8-a642-38cd932385ea"
      },
      "source": [
        "import matplotlib.pyplot as plt\r\n",
        "import seaborn as sns\r\n",
        "from sklearn import metrics\r\n",
        "%matplotlib inline\r\n",
        "digits = load_digits()\r\n",
        "print(\"Image Data shape:\", digits.data.shape)\r\n",
        "print(\"Target Label shape:\", digits.target.shape)"
      ],
      "execution_count": null,
      "outputs": [
        {
          "output_type": "stream",
          "text": [
            "Image Data shape: (1797, 64)\n",
            "Target Label shape: (1797,)\n"
          ],
          "name": "stdout"
        }
      ]
    },
    {
      "cell_type": "code",
      "metadata": {
        "colab": {
          "base_uri": "https://localhost:8080/",
          "height": 283
        },
        "id": "sH7oGP_CNMtK",
        "outputId": "6ce40387-0e83-4467-d66c-f505025b7068"
      },
      "source": [
        "plt.figure(figsize = (20,4))\r\n",
        "for index, (image, label) in enumerate(zip(digits.data[0:5], digits.target[0:5])):\r\n",
        "  plt.subplot(1,5, index+1)\r\n",
        "  plt.imshow(np.reshape(image,(8,8)), cmap= plt.cm.gray)\r\n",
        "  plt.title(\"training: %i\\n\"%label, fontsize = 20)"
      ],
      "execution_count": null,
      "outputs": [
        {
          "output_type": "display_data",
          "data": {
            "image/png": "[encoded data removed]",
            "text/plain": [
              "<Figure size 1440x288 with 5 Axes>"
            ]
          },
          "metadata": {
            "tags": []
          }
        }
      ]
    },
    {
      "cell_type": "code",
      "metadata": {
        "colab": {
          "base_uri": "https://localhost:8080/"
        },
        "id": "QvZ0NevfbahM",
        "outputId": "95b34c64-cada-45a7-d74e-6c2645be58cf"
      },
      "source": [
        "for index in enumerate(zip(digits.data[0:5], digits.target[0:5])):\r\n",
        "                           print(index)\r\n",
        "                  #         print(image)\r\n",
        "                 #          print(label)\r\n",
        "                           break"
      ],
      "execution_count": 31,
      "outputs": [
        {
          "output_type": "stream",
          "text": [
            "(0, (array([ 0.,  0.,  5., 13.,  9.,  1.,  0.,  0.,  0.,  0., 13., 15., 10.,\n",
            "       15.,  5.,  0.,  0.,  3., 15.,  2.,  0., 11.,  8.,  0.,  0.,  4.,\n",
            "       12.,  0.,  0.,  8.,  8.,  0.,  0.,  5.,  8.,  0.,  0.,  9.,  8.,\n",
            "        0.,  0.,  4., 11.,  0.,  1., 12.,  7.,  0.,  0.,  2., 14.,  5.,\n",
            "       10., 12.,  0.,  0.,  0.,  0.,  6., 13., 10.,  0.,  0.,  0.]), 0))\n"
          ],
          "name": "stdout"
        }
      ]
    },
    {
      "cell_type": "code",
      "metadata": {
        "id": "7rYWOI2diXff",
        "colab": {
          "base_uri": "https://localhost:8080/"
        },
        "outputId": "5c7fc74b-3475-49e2-bc70-e143e7048908"
      },
      "source": [
        "print(digits.data[0].shape)"
      ],
      "execution_count": 33,
      "outputs": [
        {
          "output_type": "stream",
          "text": [
            "(64,)\n"
          ],
          "name": "stdout"
        }
      ]
    },
    {
      "cell_type": "code",
      "metadata": {
        "colab": {
          "base_uri": "https://localhost:8080/"
        },
        "id": "h1dym--Pk3F1",
        "outputId": "cacb5b5b-7306-40c9-c7e3-cf2af4bf9079"
      },
      "source": [
        "xtrain, xtest, ytrain,ytest = train_test_split(digits.data, digits.target, test_size = 0.23, random_state = 2)\r\n",
        "print(xtrain.shape,\"--->\",ytrain.shape ,\"--->\",xtest.shape,\"--->\",ytest.shape)"
      ],
      "execution_count": 39,
      "outputs": [
        {
          "output_type": "stream",
          "text": [
            "(1383, 64) ---> (1383,) ---> (414, 64) ---> (414,)\n"
          ],
          "name": "stdout"
        }
      ]
    },
    {
      "cell_type": "code",
      "metadata": {
        "colab": {
          "base_uri": "https://localhost:8080/"
        },
        "id": "QGXgJn7Pr1xK",
        "outputId": "a22fe9bf-3bc9-488e-f9b1-86ed462508ef"
      },
      "source": [
        "print(xtest[0])"
      ],
      "execution_count": 42,
      "outputs": [
        {
          "output_type": "stream",
          "text": [
            "[ 0.  0.  0.  3. 16.  3.  0.  0.  0.  0.  0. 10. 16. 11.  0.  0.  0.  0.\n",
            "  4. 16. 16.  8.  0.  0.  0.  2. 14. 12. 16.  5.  0.  0.  0. 10. 16. 14.\n",
            " 16. 16. 11.  0.  0.  5. 12. 13. 16.  8.  3.  0.  0.  0.  0.  2. 15.  3.\n",
            "  0.  0.  0.  0.  0.  4. 12.  0.  0.  0.]\n"
          ],
          "name": "stdout"
        }
      ]
    },
    {
      "cell_type": "code",
      "metadata": {
        "colab": {
          "base_uri": "https://localhost:8080/"
        },
        "id": "4UGqS-bsqJqj",
        "outputId": "9698741e-8a73-4806-c9da-fef6d0b511b5"
      },
      "source": [
        "from sklearn.linear_model import LogisticRegression\r\n",
        "lr = LogisticRegression()\r\n",
        "lr.fit(xtrain, ytrain)\r\n",
        "print(lr.predict(xtest[0:10]))\r\n",
        "print(ytest[0:10])"
      ],
      "execution_count": 44,
      "outputs": [
        {
          "output_type": "stream",
          "text": [
            "[4 0 9 1 8 7 1 5 1 6]\n",
            "[4 0 9 1 4 7 1 5 1 6]\n"
          ],
          "name": "stdout"
        },
        {
          "output_type": "stream",
          "text": [
            "/usr/local/lib/python3.7/dist-packages/sklearn/linear_model/_logistic.py:940: ConvergenceWarning: lbfgs failed to converge (status=1):\n",
            "STOP: TOTAL NO. of ITERATIONS REACHED LIMIT.\n",
            "\n",
            "Increase the number of iterations (max_iter) or scale the data as shown in:\n",
            "    https://scikit-learn.org/stable/modules/preprocessing.html\n",
            "Please also refer to the documentation for alternative solver options:\n",
            "    https://scikit-learn.org/stable/modules/linear_model.html#logistic-regression\n",
            "  extra_warning_msg=_LOGISTIC_SOLVER_CONVERGENCE_MSG)\n"
          ],
          "name": "stderr"
        }
      ]
    },
    {
      "cell_type": "code",
      "metadata": {
        "id": "fLIg8XpWq8Z5"
      },
      "source": [
        "score = lr.score(xtest,ytest)"
      ],
      "execution_count": 45,
      "outputs": []
    },
    {
      "cell_type": "code",
      "metadata": {
        "colab": {
          "base_uri": "https://localhost:8080/"
        },
        "id": "z8DqMV8MsstR",
        "outputId": "b7477324-5c6e-4448-832b-da4cf9a5ce28"
      },
      "source": [
        "score"
      ],
      "execution_count": 46,
      "outputs": [
        {
          "output_type": "execute_result",
          "data": {
            "text/plain": [
              "0.9516908212560387"
            ]
          },
          "metadata": {
            "tags": []
          },
          "execution_count": 46
        }
      ]
    },
    {
      "cell_type": "code",
      "metadata": {
        "id": "37PyV1nWuYWu"
      },
      "source": [
        "y_pred = lr.predict(xtest)"
      ],
      "execution_count": 49,
      "outputs": []
    },
    {
      "cell_type": "code",
      "metadata": {
        "colab": {
          "base_uri": "https://localhost:8080/",
          "height": 547
        },
        "id": "aqrPEe54suUC",
        "outputId": "c41c5b71-8981-4355-e198-73bfcd92e5a3"
      },
      "source": [
        "plt.figure(figsize=(9,9))\r\n",
        "sns.heatmap(metrics.confusion_matrix(ytest, y_pred),annot=True, fmt = \".3f\",  linewidths=.5, square= True ,cmap = \"Blues_r\")\r\n",
        "plt.ylabel(\"Actual Label\")\r\n",
        "plt.xlabel(\"Predicted label\")\r\n",
        "all_sample_title = \"Accuracy Score: \"+ str(lr.score(xtest,ytest))\r\n",
        "plt.title(all_sample_title,size =15)"
      ],
      "execution_count": 56,
      "outputs": [
        {
          "output_type": "execute_result",
          "data": {
            "text/plain": [
              "Text(0.5, 1.0, 'Accuracy Score: 0.9516908212560387')"
            ]
          },
          "metadata": {
            "tags": []
          },
          "execution_count": 56
        },
        {
          "output_type": "display_data",
          "data": {
            "image/png": "[encoded data removed]",
            "text/plain": [
              "<Figure size 648x648 with 2 Axes>"
            ]
          },
          "metadata": {
            "tags": [],
            "needs_background": "light"
          }
        }
      ]
    },
    {
      "cell_type": "code",
      "metadata": {
        "colab": {
          "base_uri": "https://localhost:8080/",
          "height": 232
        },
        "id": "EEYc9RBhtzXp",
        "outputId": "9bd8799d-d618-404f-9cc0-1e3630b52d9d"
      },
      "source": [
        "index= 0\r\n",
        "classifiedIndex = []\r\n",
        "for predict,actual in zip(y_pred, ytest):\r\n",
        "  if predict ==  actual:\r\n",
        "    classifiedIndex.append(index)\r\n",
        "  index+=1\r\n",
        "\r\n",
        "plt.figure(figsize=(20,3))\r\n",
        "for plotIndex, wrong in enumerate(classifiedIndex[0:4]):\r\n",
        "  plt.subplot(1,4,plotIndex+1)\r\n",
        "  plt.imshow(np.reshape(xtest[wrong],(8,8)),cmap = plt.cm.gray)\r\n",
        "  plt.title(\"Predicted : {}, Actual:{}\".format(y_pred[wrong],ytest[wrong]), fontsize=20)"
      ],
      "execution_count": 60,
      "outputs": [
        {
          "output_type": "display_data",
          "data": {
            "image/png": "[encoded data removed]",
            "text/plain": [
              "<Figure size 1440x216 with 4 Axes>"
            ]
          },
          "metadata": {
            "tags": [],
            "needs_background": "light"
          }
        }
      ]
    },
    {
      "cell_type": "code",
      "metadata": {
        "id": "WS475SvkyTy2"
      },
      "source": [
        ""
      ],
      "execution_count": null,
      "outputs": []
    }
  ]
}